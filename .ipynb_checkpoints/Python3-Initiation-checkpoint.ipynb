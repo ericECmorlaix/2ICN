{
 "cells": [
  {
   "cell_type": "markdown",
   "metadata": {},
   "source": [
    "# Python 3 : Le BN pour s'initier à la programmation"
   ]
  },
  {
   "cell_type": "markdown",
   "metadata": {},
   "source": [
    "Programmer c'est écrire un programme, c'est à dire une suite d'instructions que la machine (ordinateur, smartphone, tablette, serveur, calculatrice, micro-controleur, ...) devra exécuter.\n",
    "\n",
    "Le problème est que ce genre de machines ne comprennent directement que des instructions constituées d'une suite de 0 et de 1 écritent dans un langage de bas niveau, c'est du langage machine.\n",
    "\n",
    "Pour faciliter cette programmation on a inventé des langages dit de haut niveau, graphique comme Scracth, ou encore textuel et proche de l'anglais comme JavaScript et Python. Cette idée on la doit à [Grace HOPPER](https://fr.wikipedia.org/wiki/Grace_Hopper). Ces programmes sont ensuite interprétés et/ou compilés, c'est à dire traduit automatiquement en langage machine.\n",
    "\n",
    "[Python](https://fr.wikipedia.org/wiki/Python_(langage)) est un langage de programmation moderne imaginé par [Guido Van Rossum](https://fr.wikipedia.org/wiki/Guido_van_Rossum) , [multi-plateforme](https://fr.wikipedia.org/wiki/Logiciel_multiplate-forme), [open-source](https://fr.wikipedia.org/wiki/Open_source), [généraliste](https://fr.wikipedia.org/wiki/Langage_d%C3%A9di%C3%A9), [orienté objet](https://fr.wikipedia.org/wiki/Programmation_orient%C3%A9e_objet) et de [haut niveau](https://fr.wikipedia.org/wiki/Langage_de_haut_niveau).  \n",
    "\n",
    "> Python n'a rien à voir avec le reptile du même nom, mais avec le groupe d'humoristes anglais des années 1970 [Monty Python](https://fr.wikipedia.org/wiki/Monty_Python).\n",
    "\n",
    "C'est un langage à la fois simple et puissant... Testons celà avec un premier programme :"
   ]
  },
  {
   "cell_type": "code",
   "execution_count": null,
   "metadata": {},
   "outputs": [],
   "source": [
    "print(\"Bonjour !\")"
   ]
  },
  {
   "cell_type": "markdown",
   "metadata": {},
   "source": [
    "Exécuter ce programme en sélectionnant sa cellule puis en frappant les touches **`<Alt+Entrée>`** et décrire ce qu'il réalise dans la cellule nouvellement créée en la basculant du type **`Code`** au type [**`Markdown`**](MarkDown-Le_BN_pour_rapporter.ipynb).\n",
    "\n",
    "Modifier alors ce programme pour qu'il produise autre chose à votre goût..."
   ]
  },
  {
   "cell_type": "markdown",
   "metadata": {},
   "source": [
    "***  \n",
    "> Ce document est un notebook jupyter, si vous n'êtes pas familiarisé avec cet environnement, regardez cette [Introduction](Introduction-Le_BN_pour_explorer.ipynb).  \n",
    "\n",
    ">Les cellules si dessous sont éditables et exécutables. Vous pouvez exécuter une cellule à l'aide du bouton <button class='fa fa-step-forward icon-step-forward btn btn-xs btn-default'></button> ou en utilisant le menu **`Cell>Run...`** ou encore en vous servant des touches :\n",
    "* **`<Maj+Entrée>`** : le code de la cellule est exécuté et le curseur va à la cellule suivante.\n",
    "* **`<Ctrl+Entrée>`** : le code de la cellule est exécuté et le curseur reste sur la même cellule.\n",
    "* **`<Alt+Entrée>`** : le code de la cellule est exécuté et le notebook crée une nouvelle cellule immédiatement après.\n",
    "\n",
    ">Vous pouvez également ajouter une nouvelle cellule à l'aider du bouton <button class='fa fa-plus icon-plus btn btn-xs btn-default'></button>.\n",
    "\n",
    "> Un des avantages principaux des notebooks est de vous permettre de modifier le code que nous avons écrit, et de voir par vous-même comment se comporte le code modifié.  \n",
    "Pour cette raison chaque élève dispose de sa **propre copie** de chaque notebook, ainsi vous pouvez bien sûr apporter toutes les modifications que vous souhaitez à vos notebooks sans affecter ceux des autres élèves et revenir à la version originale en rechargeant un notebook à partir du lien fourni.\n",
    "\n",
    "***"
   ]
  },
  {
   "cell_type": "markdown",
   "metadata": {},
   "source": [
    "On observe qu'un programme écrit en Python permet de produire un résultat en sortie.\n",
    "\n",
    "Ici il s'agit d'afficher une chaine de caractères. `\"Bonjour !\"` est de type \"string\" c'est à dire une chaine de caractères alphanumériques... La fonction **`type()`** renvoie le... type (on ne peut pas plus simple) :"
   ]
  },
  {
   "cell_type": "code",
   "execution_count": null,
   "metadata": {},
   "outputs": [],
   "source": [
    "type(\"Bonjour !\")"
   ]
  },
  {
   "cell_type": "markdown",
   "metadata": {},
   "source": [
    "Pour le programme suivant, on devine facilement ce qu'il va produire :"
   ]
  },
  {
   "cell_type": "code",
   "execution_count": null,
   "metadata": {},
   "outputs": [],
   "source": [
    "print('      \\|||/')\n",
    "print('      (0 0)')\n",
    "print('.~ooO~~(_)~~~~~~~.')\n",
    "print('|                |')\n",
    "print(\"|  L'art ASCII   |\")\n",
    "print('|                |')\n",
    "print(\"'~~~~~~~~~~~~ooO~'\")\n",
    "print('     |__|__|')\n",
    "print('      || ||')\n",
    "print('     ooO Ooo')"
   ]
  },
  {
   "cell_type": "markdown",
   "metadata": {},
   "source": [
    "***\n",
    "> De [l’art ASCII](https://fr.wikipedia.org/wiki/Art_ASCII) (prononcé [aski:]) consiste à créer des images uniquement à l'aide des lettres et caractères spéciaux contenus dans l'American Standard Code for Information Interchange [ASCII](https://fr.wikipedia.org/wiki/American_Standard_Code_for_Information_Interchange) \n",
    ">\n",
    "> C'est l'ancêtre des [émoticônes](https://fr.wikipedia.org/wiki/Émoticône)...  ;-)\n",
    "***\n",
    "\n",
    "Mais qu'est-ce que va afficher ce programme ?"
   ]
  },
  {
   "cell_type": "code",
   "execution_count": null,
   "metadata": {},
   "outputs": [],
   "source": [
    "print(' ' * 6 + '\\|||/')\n",
    "print(' ' * 6 + '(0 0)')\n",
    "print('.~ooO~~(_)' + '~' * 7 + '.')\n",
    "\n",
    "for i in range (0,3):\n",
    "    if i == 1 :\n",
    "        print('|  L\\'art ASCII   |')\n",
    "    else :\n",
    "        print('|' + ' ' * 16 + '|')\n",
    "    \n",
    "print(\"'\" + chr(126) * 12 + \"ooO~'\")\n",
    "\n",
    "print(chr(32) * 5 + chr(124) + chr(95) * 2 + chr(124) + chr(95) * 2 + chr(124))\n",
    "print(chr(32) * 6 + chr(124) * 2 + chr(32) + chr(124) * 2)\n",
    "print(chr(32) * 5 + chr(79+32) * 2 + chr(79) + chr(32) + chr(79) + chr(79+32)*2)"
   ]
  },
  {
   "cell_type": "markdown",
   "metadata": {},
   "source": [
    "La même chose, et pourtant...\n",
    "\n",
    "Observer les différences de programmation et sans lire la suite essayer de comprendre sont fonctionnement..."
   ]
  },
  {
   "cell_type": "markdown",
   "metadata": {},
   "source": [
    "On trouve dans ce dernier programme pas mal de code qui mérite un peu d'explications:"
   ]
  },
  {
   "cell_type": "markdown",
   "metadata": {},
   "source": [
    "## Opération sur les chaines de caractères alphanumériques :\n",
    "\n",
    "En Python, les chaines de caractère peuvent aussi bien s'écrire entre deux apostrophes (') qu'entre deux guillemets (\"). Ce qui permet d'intégrer une **`'`** ou des **`\"`** dans une chaines de caractères. Une autre solution consiste à utiliser un caractère d'échapement **`\\`** :"
   ]
  },
  {
   "cell_type": "code",
   "execution_count": null,
   "metadata": {},
   "outputs": [],
   "source": [
    "print(\"L'heure est venue de programmer\")\n",
    "print(\"Python\", 'c\\'est \"cool\" !')"
   ]
  },
  {
   "cell_type": "markdown",
   "metadata": {},
   "source": [
    "> La fonction **`print()`** admet deux arguments interessants :  \n",
    ">\n",
    ">* **`sep`**  qui permet de séparer les valeurs par un texte de votre choix.  Par défaut le séparateur est un espace **`\" \"`**.\n",
    ">* **`end`** qui permet d'ajouter à la fin un texte de votre choix. Par defaut la fin de ligne est un retour à la ligne **`\"\\n\"`**."
   ]
  },
  {
   "cell_type": "code",
   "execution_count": null,
   "metadata": {},
   "outputs": [],
   "source": [
    "print(\"L'heure est venue de programmer\", end=\"... \")\n",
    "print(\"Python\",'c\\'est \"cool\" !',sep=\", \")"
   ]
  },
  {
   "cell_type": "markdown",
   "metadata": {},
   "source": [
    "### Concaténation\n",
    "\n",
    "On peut concaténer deux chaines grâce à l'opérateur **`+`**."
   ]
  },
  {
   "cell_type": "code",
   "execution_count": null,
   "metadata": {},
   "outputs": [],
   "source": [
    "'Hello'+' '+'World'+' !'"
   ]
  },
  {
   "cell_type": "markdown",
   "metadata": {},
   "source": [
    "### Répétition\n",
    "\n",
    "On peut répéter une chaine grâce à l'opérateur **`*`**."
   ]
  },
  {
   "cell_type": "code",
   "execution_count": null,
   "metadata": {},
   "outputs": [],
   "source": [
    "\"to\"*2"
   ]
  },
  {
   "cell_type": "markdown",
   "metadata": {},
   "source": [
    "##  Variables :\n",
    "Dans la mémoire vive de notre ordinateur, nous créons des boîtes (les variables) dans lesquelles nous mettons des valeurs :\n",
    "\n",
    "Pour déclarer une variable en Python, il suffit de la nommer directement.\n",
    "\n",
    "Pour affecter une valeur à la variable on utilise l'opérateur d'affectation **`=`** et Python lui attribue de façon dynamique un **type** correspondant à cette valeur."
   ]
  },
  {
   "cell_type": "code",
   "execution_count": null,
   "metadata": {},
   "outputs": [],
   "source": [
    "a=\"Hello\"\n",
    "type(a)"
   ]
  },
  {
   "cell_type": "code",
   "execution_count": null,
   "metadata": {},
   "outputs": [],
   "source": [
    "b=\"World\"\n",
    "print(a,b)"
   ]
  },
  {
   "cell_type": "markdown",
   "metadata": {},
   "source": [
    "## Boucle de répétitions\n",
    "La notion de boucle est fondamentale en informatique. Une boucle permet d'exécuter plusieurs fois des instructions qui ne sont inscrites qu'une seule fois dans le code.\n",
    "### La boucle for\n",
    "La boucle **`for`** prend ses valeurs dans un ensemble itératif :\n",
    "**`for variable in liste_valeurs`**. À chaque itération la variable prendra pour valeur un élément de la liste.\n",
    "\n",
    "Pour créer une boucle pour i allant de m à n, faire..., nous utiliserons la fonction **`range()`**.  \n",
    "La syntaxe générale est **`for i in range(m,n,p):`**  \n",
    "**`i`** prend alors toutes les valeurs de **`m`** à **`n-1`** par pas de **`p`**"
   ]
  },
  {
   "cell_type": "code",
   "execution_count": null,
   "metadata": {},
   "outputs": [],
   "source": [
    "for i in range(0,6,2):\n",
    "    print(i)"
   ]
  },
  {
   "cell_type": "markdown",
   "metadata": {},
   "source": [
    "### Indentation obligatoire\n",
    "\n",
    "Python oblige le développeur à structurer son code a l'aide des **indentations** : ce sont elles qui, après les **`:`**, détermineront les limites du bloc de la séquence d'instructions répétées dans la boucle.\n",
    "\n",
    "La fonction **`chr()`** renvoie le caractère correspondant à la valeur décimale du code ASCII."
   ]
  },
  {
   "cell_type": "code",
   "execution_count": null,
   "metadata": {},
   "outputs": [],
   "source": [
    "for i in range (33,127):\n",
    "    print(f'chr({i}) = '+ chr(i), end='  |  ')"
   ]
  },
  {
   "cell_type": "markdown",
   "metadata": {},
   "source": [
    "Depuis Python 3.6, on peut utiliser les **`f-strings`** tels que :"
   ]
  },
  {
   "cell_type": "code",
   "execution_count": null,
   "metadata": {},
   "outputs": [],
   "source": [
    "a=4\n",
    "b=5\n",
    "print(f\"Le produit de {a} par {b} est {a*b}\\nLa division de {b} par {a} donne {b/a}\")"
   ]
  },
  {
   "cell_type": "markdown",
   "metadata": {},
   "source": [
    "## Opérateurs relationnels, les comparateurs :\n",
    "| Symbole | Opération |\n",
    "|---------|-----------|\n",
    "| ==      | égal      |\n",
    "| !=      | différent |\n",
    "| <       | inférieur |\n",
    "| >       | supérieur |\n",
    "| <=      | inférieur ou égal |\n",
    "| >=      | supérieur ou égal |\n",
    "\n",
    "Ces opérateurs permettent de faire des tests conditionnels :"
   ]
  },
  {
   "cell_type": "code",
   "execution_count": null,
   "metadata": {},
   "outputs": [],
   "source": [
    "(0==1)"
   ]
  },
  {
   "cell_type": "code",
   "execution_count": null,
   "metadata": {},
   "outputs": [],
   "source": [
    "(0<=1)"
   ]
  },
  {
   "cell_type": "markdown",
   "metadata": {},
   "source": [
    "## Les structures de test\n",
    "\n",
    "### Si ...  alors ...  sinon\n",
    "\n",
    "```python\n",
    "if condition:\n",
    "    # Traitement bloc 1\n",
    "else:\n",
    "    # Traitement bloc 2\n",
    "```\n",
    "\n",
    "Pour les tests multiples, il faudra enchaîner les if en cascade grâce à l'instruction elif, contraction de else if :\n",
    "\n",
    "\n",
    "```python\n",
    "if condition:\n",
    "    # Traitement bloc 1\n",
    "elif:\n",
    "    # Traitement bloc 2\n",
    "else:\n",
    "    # Traitement bloc 3\n",
    "```\n",
    "\n",
    "Par exemple:"
   ]
  },
  {
   "cell_type": "code",
   "execution_count": null,
   "metadata": {},
   "outputs": [],
   "source": [
    "a = 3\n",
    "if a > 1:\n",
    "    print('a > 1')\n",
    "else:\n",
    "    print('a <= 1')"
   ]
  },
  {
   "cell_type": "markdown",
   "metadata": {},
   "source": [
    "# Défis rapides :\n",
    "\n",
    "1- Modifies le précédent programme pour dissimuler plus encore ce qu'il va produire.\n",
    "\n",
    "2- Imagines un programme en Python pour te présenter en affichant ton avatar, ta signature en Art ASCII...\n",
    "\n",
    "3- Programmes un \"chifoumi\" en art ASCII.\n",
    "\n",
    "4- Lorsque l'on rédige un programme informatique il est essentiel de le commenter, pour cela en Python on utilise le caractère **`#`** qui permet d'indiquer que tous les caractères suivants sur la même ligne ne doivent pas être interprétés comme du code d'instruction. Aussi, au début d'un script on créé une entête pour présenter le programme. Développes ton programme générateur d'entêtes personalisées pour tes futurs scripts.\n",
    "\n",
    "5- Demandes à l'utilisateur le titre du programme à inscrire dans l'entête.\n",
    "\n",
    "6- Fonction de Palindrome..."
   ]
  },
  {
   "cell_type": "code",
   "execution_count": null,
   "metadata": {},
   "outputs": [],
   "source": []
  },
  {
   "cell_type": "markdown",
   "metadata": {},
   "source": [
    "# Mini-Projets :"
   ]
  },
  {
   "cell_type": "code",
   "execution_count": null,
   "metadata": {},
   "outputs": [],
   "source": []
  }
 ],
 "metadata": {
  "kernelspec": {
   "display_name": "Python 3",
   "language": "python",
   "name": "python3"
  },
  "language_info": {
   "codemirror_mode": {
    "name": "ipython",
    "version": 3
   },
   "file_extension": ".py",
   "mimetype": "text/x-python",
   "name": "python",
   "nbconvert_exporter": "python",
   "pygments_lexer": "ipython3",
   "version": "3.7.3"
  }
 },
 "nbformat": 4,
 "nbformat_minor": 2
}
