{
 "cells": [
  {
   "cell_type": "markdown",
   "metadata": {},
   "source": [
    "Ce document présente une série de Bloc-Notes destinés aux élèves qui suivent l'enseignement d'exploration Informatique et Création Numérique en classe de seconde au lycée Notre Dame du Mur de Morlaix.\n",
    "<img src=\"https://ericecmorlaix.github.io/img/ECAM-Lycee-Notre-Dame-Du-Mur.png\" alt=\"Logo du Lycee Notre Dame Du Mur\" width=50%>"
   ]
  },
  {
   "cell_type": "markdown",
   "metadata": {},
   "source": [
    "<center><h1>Sommaire</h1></center>\n",
    "\n",
    "## Rapporter avec jupyter notebook\n",
    "\n",
    "L'objectif de cette partie est de vous faire découvrir le potentiel de jupyter notebook pour rédiger rapidement un compte rendu scientifique interactif directement publiable sur le Web.\n",
    "\n",
    "1. [Introduction](Introduction-Le_BN_pour_explorer.ipynb) - Un bloc-note pour explorer les fonctionnalités de jupyter notebook\n",
    "1. [Markdown](MarkDown-Le_BN_pour_rapporter.ipynb) - Un bloc-note pour découvrir l'écriture d'un document Web en Markdown dans un jupyter notebook\n",
    "1. [Arithmétique](Arithmetique-Le_BN_pour_calculer.ipynb) - Un bloc-note pour faire des calculs mathématiques en Python dans un jupyter notebook\n",
    "1. [HTML](HTML-Le_BN_pour_multimedier.ipynb) - Un bloc-note pour créer un document Web multimédia en HTML dans un jupyter notebook\n",
    "1. [LaTeX](LaTeX-Le_BN_pour_formuler.ipynb) - Un bloc-note pour enrichir un document Web de formules en $\\LaTeX{}$ dans un jupyter notebook"
   ]
  },
  {
   "cell_type": "markdown",
   "metadata": {},
   "source": [
    "## Programmer en Python 3 dans jupyter notebook :\n",
    "\n",
    "L'objectif est de présenter ici le potentiel de jupyter notebook pour faire l'apprentissage d'un langage de programmation tel que Python 3 et pour développer une application informatique dans un domaine de votre choix.\n",
    "1. [Initiation](Python3-Initiation.ipynb) - Un bloc-note pour s'initier à la programmation scientifique en Python 3.\n",
    "1. _**(En Construction )**_ [Projet](2ICN-Python3-Projet.ipynb) - Un bloc-note pour développer des applications informatiques."
   ]
  },
  {
   "cell_type": "markdown",
   "metadata": {},
   "source": [
    "## Gérer ses fichiers depuis un environnement jupyter notebook :\n",
    "\n",
    "1. Avec [Microsoft Azure Notebook](https://notebooks.azure.com/), se connecter `Sign In` avec votre compte `prenom.nom@eleves.ecmorlaix.fr`\n",
    "> Cliquer sur `My Project` puis sur `Upload GitHub Repo`, dans la fenêtre qui s'ouvre coller l'URL https://github.com/ericECmorlaix/2ICN\n",
    "##### Besoin d'aide :\n",
    "    - l'aide officielle :\n",
    "        - https://docs.microsoft.com/en-us/azure/notebooks/\n",
    "        - https://notebooks.azure.com/help/introduction\n",
    "    - un tutoriel pour débuter : https://realpython.com/jupyter-notebook-introduction/\n",
    "    - les exemples de [Tony HIRST](https://notebooks.azure.com/OUsefulInfo/projects/gettingstarted)\n",
    "    \n",
    "    \n",
    "2. Avec le serveur JupyterHub du lycée à l'adresse http://jupyterhub.ecmorlaix.bzh:8092, se connecter avec votre compte au format :\n",
    "    - `2118pnom` si vous êtes en seconde 1 ;\n",
    "    - `2218pnom` si vous êtes en seconde 2 ;\n",
    "    - `2318pnom` si vous êtes en seconde 3 ;\n",
    "    - `2418pnom` si vous êtes en seconde 4 ;\n",
    "    > Où `p` est la première lettre de votre prénom et `nom` est votre nom de famille. C'est vous qui définissez votre mot de passe, ***attention de ne pas l'oublier !***\n",
    "    \n",
    "    > Pour y télécharger les fichiers du dépot `github.com/ericECmorlaix/2ICN`, cliquer sur le lien suivant : http://jupyterhub.ecmorlaix.bzh:8092/hub/user-redirect/git-pull?repo=https%3A%2F%2Fgithub.com%2FericECmorlaix%2F2ICN&subPath=index.ipynb&app=notebook \n",
    "    \n",
    "    > Si vous n'avez pas encore de compte, merci d'en faire la demande à eric.madec@ecmorlaix.fr\n",
    "    "
   ]
  },
  {
   "cell_type": "markdown",
   "metadata": {},
   "source": [
    "## Liens pour explorer vers l'infini et au délà...\n",
    "- https://try.jupyter.org/\n",
    "- http://nbviewer.jupyter.org/\n"
   ]
  },
  {
   "cell_type": "markdown",
   "metadata": {},
   "source": [
    "<img src=\"https://ericecmorlaix.github.io/img/ECAM-Logo.png\" alt=\"Logo de l'ECA.M\" width=50%>"
   ]
  },
  {
   "cell_type": "markdown",
   "metadata": {
    "collapsed": true
   },
   "source": [
    "<a rel=\"license\" href=\"http://creativecommons.org/licenses/by-sa/4.0/\"><img alt=\"Licence Creative Commons\" style=\"border-width:0\" src=\"https://i.creativecommons.org/l/by-sa/4.0/88x31.png\" /></a><br />Ce document est mis à disposition selon les termes de la <a rel=\"license\" href=\"http://creativecommons.org/licenses/by-sa/4.0/\">Licence Creative Commons Attribution -  Partage dans les Mêmes Conditions 4.0 International</a>.\n",
    "\n",
    "Pour toute question, suggestion ou commentaire : <a href=\"mailto:eric.madec@ecmorlaix.fr\">eric.madec@ecmorlaix.fr</a>"
   ]
  }
 ],
 "metadata": {
  "kernelspec": {
   "display_name": "Python 3",
   "language": "python",
   "name": "python3"
  },
  "language_info": {
   "codemirror_mode": {
    "name": "ipython",
    "version": 3
   },
   "file_extension": ".py",
   "mimetype": "text/x-python",
   "name": "python",
   "nbconvert_exporter": "python",
   "pygments_lexer": "ipython3",
   "version": "3.7.3"
  }
 },
 "nbformat": 4,
 "nbformat_minor": 2
}
